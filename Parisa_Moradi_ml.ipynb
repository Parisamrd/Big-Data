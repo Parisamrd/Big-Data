{
 "cells": [
  {
   "cell_type": "code",
   "execution_count": 0,
   "metadata": {
    "application/vnd.databricks.v1+cell": {
     "cellMetadata": {
      "byteLimit": 2048000,
      "rowLimit": 10000
     },
     "inputWidgets": {},
     "nuid": "9ebc68cd-8c70-4301-b164-879a023829bc",
     "showTitle": false,
     "title": ""
    }
   },
   "outputs": [],
   "source": [
    "import mlflow\n",
    "mlflow.pyspark.ml.autolog()"
   ]
  },
  {
   "cell_type": "code",
   "execution_count": 0,
   "metadata": {
    "application/vnd.databricks.v1+cell": {
     "cellMetadata": {
      "byteLimit": 2048000,
      "rowLimit": 10000
     },
     "inputWidgets": {},
     "nuid": "c99c3fe9-3b74-4627-9844-ac2624e4e646",
     "showTitle": false,
     "title": ""
    }
   },
   "outputs": [],
   "source": [
    "steam = spark.read.csv('/FileStore/tables/steam_200k.csv',\n",
    "                       \n",
    "                       inferSchema=\"true\")"
   ]
  },
  {
   "cell_type": "code",
   "execution_count": 0,
   "metadata": {
    "application/vnd.databricks.v1+cell": {
     "cellMetadata": {
      "byteLimit": 2048000,
      "rowLimit": 10000
     },
     "inputWidgets": {},
     "nuid": "d46da331-8e5f-4f16-bd5f-762d768248e4",
     "showTitle": false,
     "title": ""
    }
   },
   "outputs": [
    {
     "output_type": "stream",
     "name": "stdout",
     "output_type": "stream",
     "text": [
      "+---------+--------------------+--------+-----+\n|      _c0|                 _c1|     _c2|  _c3|\n+---------+--------------------+--------+-----+\n|151603712|The Elder Scrolls...|purchase|  1.0|\n|151603712|The Elder Scrolls...|    play|273.0|\n|151603712|           Fallout 4|purchase|  1.0|\n|151603712|           Fallout 4|    play| 87.0|\n|151603712|               Spore|purchase|  1.0|\n|151603712|               Spore|    play| 14.9|\n|151603712|   Fallout New Vegas|purchase|  1.0|\n|151603712|   Fallout New Vegas|    play| 12.1|\n|151603712|       Left 4 Dead 2|purchase|  1.0|\n|151603712|       Left 4 Dead 2|    play|  8.9|\n|151603712|            HuniePop|purchase|  1.0|\n|151603712|            HuniePop|    play|  8.5|\n|151603712|       Path of Exile|purchase|  1.0|\n|151603712|       Path of Exile|    play|  8.1|\n|151603712|         Poly Bridge|purchase|  1.0|\n|151603712|         Poly Bridge|    play|  7.5|\n|151603712|         Left 4 Dead|purchase|  1.0|\n|151603712|         Left 4 Dead|    play|  3.3|\n|151603712|     Team Fortress 2|purchase|  1.0|\n|151603712|     Team Fortress 2|    play|  2.8|\n+---------+--------------------+--------+-----+\nonly showing top 20 rows\n\n"
     ]
    }
   ],
   "source": [
    "steam = steam.dropna()\n",
    "steam.show()"
   ]
  },
  {
   "cell_type": "code",
   "execution_count": 0,
   "metadata": {
    "application/vnd.databricks.v1+cell": {
     "cellMetadata": {
      "byteLimit": 2048000,
      "rowLimit": 10000
     },
     "inputWidgets": {},
     "nuid": "66c4f01d-7d54-4a45-8334-99edb5863b4a",
     "showTitle": false,
     "title": ""
    }
   },
   "outputs": [
    {
     "output_type": "stream",
     "name": "stdout",
     "output_type": "stream",
     "text": [
      "+---------+--------------------------+--------+-----+\n|_c0      |_c1                       |_c2     |_c3  |\n+---------+--------------------------+--------+-----+\n|151603712|The Elder Scrolls V Skyrim|purchase|1.0  |\n|151603712|The Elder Scrolls V Skyrim|play    |273.0|\n|151603712|Fallout 4                 |purchase|1.0  |\n|151603712|Fallout 4                 |play    |87.0 |\n|151603712|Spore                     |purchase|1.0  |\n|151603712|Spore                     |play    |14.9 |\n|151603712|Fallout New Vegas         |purchase|1.0  |\n|151603712|Fallout New Vegas         |play    |12.1 |\n|151603712|Left 4 Dead 2             |purchase|1.0  |\n|151603712|Left 4 Dead 2             |play    |8.9  |\n|151603712|HuniePop                  |purchase|1.0  |\n|151603712|HuniePop                  |play    |8.5  |\n|151603712|Path of Exile             |purchase|1.0  |\n|151603712|Path of Exile             |play    |8.1  |\n|151603712|Poly Bridge               |purchase|1.0  |\n|151603712|Poly Bridge               |play    |7.5  |\n|151603712|Left 4 Dead               |purchase|1.0  |\n|151603712|Left 4 Dead               |play    |3.3  |\n|151603712|Team Fortress 2           |purchase|1.0  |\n|151603712|Team Fortress 2           |play    |2.8  |\n+---------+--------------------------+--------+-----+\nonly showing top 20 rows\n\n"
     ]
    }
   ],
   "source": [
    "steam.show(truncate=False)"
   ]
  },
  {
   "cell_type": "code",
   "execution_count": 0,
   "metadata": {
    "application/vnd.databricks.v1+cell": {
     "cellMetadata": {
      "byteLimit": 2048000,
      "rowLimit": 10000
     },
     "inputWidgets": {},
     "nuid": "6e25e050-d06f-4e85-b292-5b3791eb3a22",
     "showTitle": false,
     "title": ""
    }
   },
   "outputs": [
    {
     "output_type": "stream",
     "name": "stdout",
     "output_type": "stream",
     "text": [
      "+---------+--------------------+--------+--------+\n|member_Id|           game_name|behavior|hourplay|\n+---------+--------------------+--------+--------+\n|151603712|The Elder Scrolls...|purchase|     1.0|\n|151603712|The Elder Scrolls...|    play|   273.0|\n|151603712|           Fallout 4|purchase|     1.0|\n|151603712|           Fallout 4|    play|    87.0|\n|151603712|               Spore|purchase|     1.0|\n|151603712|               Spore|    play|    14.9|\n|151603712|   Fallout New Vegas|purchase|     1.0|\n|151603712|   Fallout New Vegas|    play|    12.1|\n|151603712|       Left 4 Dead 2|purchase|     1.0|\n|151603712|       Left 4 Dead 2|    play|     8.9|\n|151603712|            HuniePop|purchase|     1.0|\n|151603712|            HuniePop|    play|     8.5|\n|151603712|       Path of Exile|purchase|     1.0|\n|151603712|       Path of Exile|    play|     8.1|\n|151603712|         Poly Bridge|purchase|     1.0|\n|151603712|         Poly Bridge|    play|     7.5|\n|151603712|         Left 4 Dead|purchase|     1.0|\n|151603712|         Left 4 Dead|    play|     3.3|\n|151603712|     Team Fortress 2|purchase|     1.0|\n|151603712|     Team Fortress 2|    play|     2.8|\n+---------+--------------------+--------+--------+\nonly showing top 20 rows\n\n"
     ]
    }
   ],
   "source": [
    "new_column_names = ['member_Id', 'game_name', 'behavior','hourplay']\n",
    "\n",
    "steam1 = steam.toDF(*new_column_names)\n",
    "steam1.show()\n"
   ]
  },
  {
   "cell_type": "code",
   "execution_count": 0,
   "metadata": {
    "application/vnd.databricks.v1+cell": {
     "cellMetadata": {
      "byteLimit": 2048000,
      "rowLimit": 10000
     },
     "inputWidgets": {},
     "nuid": "747aa48c-61fc-47bd-b296-3e734f269966",
     "showTitle": false,
     "title": ""
    }
   },
   "outputs": [
    {
     "output_type": "stream",
     "name": "stdout",
     "output_type": "stream",
     "text": [
      "+---------+--------+--------+-------+\n|member_Id|behavior|hourplay|game_id|\n+---------+--------+--------+-------+\n|151603712|purchase|     1.0|   2609|\n|151603712|    play|   273.0|   2609|\n|151603712|purchase|     1.0|    410|\n|151603712|    play|    87.0|    410|\n|151603712|purchase|     1.0|   3868|\n|151603712|    play|    14.9|   3868|\n|151603712|purchase|     1.0|   3820|\n|151603712|    play|    12.1|   3820|\n|151603712|purchase|     1.0|     69|\n|151603712|    play|     8.9|     69|\n|151603712|purchase|     1.0|   3340|\n|151603712|    play|     8.5|   3340|\n|151603712|purchase|     1.0|   1562|\n|151603712|    play|     8.1|   1562|\n|151603712|purchase|     1.0|   4116|\n|151603712|    play|     7.5|   4116|\n|151603712|purchase|     1.0|   1992|\n|151603712|    play|     3.3|   1992|\n|151603712|purchase|     1.0|   3893|\n|151603712|    play|     2.8|   3893|\n+---------+--------+--------+-------+\nonly showing top 20 rows\n\n"
     ]
    }
   ],
   "source": [
    "from pyspark.sql import SparkSession\n",
    "from pyspark.sql.functions import monotonically_increasing_id\n",
    "\n",
    "spark = SparkSession.builder \\\n",
    "    .appName(\"Add Game IDs\") \\\n",
    "    .getOrCreate()\n",
    "distinct_game_names_df = steam1.select(\"game_name\").distinct()\n",
    "distinct_game_names_with_id_df = distinct_game_names_df.withColumn(\"game_id\", monotonically_increasing_id())\n",
    "\n",
    "mysteam=steam1.join(distinct_game_names_with_id_df, steam1.game_name==distinct_game_names_with_id_df.game_name, \"left\").drop(\"game_name\")\n",
    "mysteam.show()"
   ]
  },
  {
   "cell_type": "code",
   "execution_count": 0,
   "metadata": {
    "application/vnd.databricks.v1+cell": {
     "cellMetadata": {
      "byteLimit": 2048000,
      "rowLimit": 10000
     },
     "inputWidgets": {},
     "nuid": "b4e1c1b4-2f4a-4843-82d5-cb8e14870555",
     "showTitle": false,
     "title": ""
    }
   },
   "outputs": [
    {
     "output_type": "stream",
     "name": "stdout",
     "output_type": "stream",
     "text": [
      "+---------+--------+--------+-------+\n|member_Id|behavior|hourplay|game_id|\n+---------+--------+--------+-------+\n|151603712|purchase|     1.0|   2609|\n|151603712|purchase|     1.0|    410|\n|151603712|purchase|     1.0|   3868|\n|151603712|purchase|     1.0|   3820|\n|151603712|purchase|     1.0|     69|\n|151603712|purchase|     1.0|   3340|\n|151603712|purchase|     1.0|   1562|\n|151603712|purchase|     1.0|   4116|\n|151603712|purchase|     1.0|   1992|\n|151603712|purchase|     1.0|   3893|\n|151603712|purchase|     1.0|   1754|\n|151603712|purchase|     1.0|   3341|\n|151603712|purchase|     1.0|   3540|\n|151603712|purchase|     1.0|   2392|\n|151603712|purchase|     1.0|    653|\n|151603712|purchase|     1.0|   4023|\n|151603712|purchase|     1.0|   3273|\n|151603712|purchase|     1.0|   3517|\n|151603712|purchase|     1.0|   2119|\n|151603712|purchase|     1.0|   3541|\n+---------+--------+--------+-------+\nonly showing top 20 rows\n\n"
     ]
    }
   ],
   "source": [
    "#purchase\n",
    "purchase_steam = mysteam[mysteam['behavior'] == 'purchase']\n",
    "\n",
    "purchase_steam.show()"
   ]
  },
  {
   "cell_type": "code",
   "execution_count": 0,
   "metadata": {
    "application/vnd.databricks.v1+cell": {
     "cellMetadata": {
      "byteLimit": 2048000,
      "rowLimit": 10000
     },
     "inputWidgets": {},
     "nuid": "5819bfeb-b421-44a9-99f9-416f2635cc94",
     "showTitle": false,
     "title": ""
    }
   },
   "outputs": [
    {
     "output_type": "display_data",
     "data": {
      "image/png": "[encoded data removed]",
      "text/plain": [
       "<Figure size 1000x600 with 1 Axes>"
      ]
     },
     "metadata": {},
     "output_type": "display_data"
    }
   ],
   "source": [
    "# Plot the top 5 most frequently purchased games\n",
    "import seaborn as sns\n",
    "import matplotlib.pyplot as plt\n",
    "purchase_counts = purchase_steam.groupBy(\"game_id\").count().orderBy(\"count\", ascending=False)\n",
    "top_5_purchase_counts = purchase_counts.limit(5)\n",
    "top_5_purchase_counts_df = top_5_purchase_counts.toPandas()\n",
    "plt.figure(figsize=(10, 6))\n",
    "sns.barplot(data=top_5_purchase_counts_df, x='game_id', y='count')\n",
    "plt.title('Top 5 Most Frequently Purchased Games')\n",
    "plt.xlabel('Purchase Count')\n",
    "plt.ylabel('Game ID')\n",
    "plt.show()\n"
   ]
  },
  {
   "cell_type": "code",
   "execution_count": 0,
   "metadata": {
    "application/vnd.databricks.v1+cell": {
     "cellMetadata": {
      "byteLimit": 2048000,
      "rowLimit": 10000
     },
     "inputWidgets": {},
     "nuid": "f2b0ca9d-d98d-4601-949f-66a08e1da147",
     "showTitle": false,
     "title": ""
    }
   },
   "outputs": [],
   "source": [
    "(training, test) = purchase_steam.randomSplit([0.8, 0.2], seed=100)\n",
    "\n",
    "training = training.unionAll(purchase_steam)"
   ]
  },
  {
   "cell_type": "code",
   "execution_count": 0,
   "metadata": {
    "application/vnd.databricks.v1+cell": {
     "cellMetadata": {
      "byteLimit": 2048000,
      "rowLimit": 10000
     },
     "inputWidgets": {},
     "nuid": "04a539ea-1fe3-4c1e-996b-e09a6d1de691",
     "showTitle": false,
     "title": ""
    }
   },
   "outputs": [
    {
     "output_type": "stream",
     "name": "stderr",
     "output_type": "stream",
     "text": [
      "2024/05/01 18:12:40 INFO mlflow.utils.autologging_utils: Created MLflow autologging run with ID '884fce297e8449ba8a8fb6c560537013', which will track hyperparameters, performance metrics, model artifacts, and lineage information for the current pyspark.ml workflow\n2024/05/01 18:12:41 WARNING mlflow.utils.autologging_utils: MLflow autologging encountered a warning: \"/databricks/python/lib/python3.10/site-packages/mlflow/data/spark_dataset.py:159: UserWarning: Hint: Inferred schema contains integer column(s). Integer columns in Python cannot represent missing values. If your input data contains missing values at inference time, it will be encoded as floats and will cause a schema enforcement error. The best way to avoid this problem is to infer the model schema based on a realistic data sample (training dataset) that includes missing values. Alternatively, you can declare integer columns as doubles (float64) whenever these columns may have missing values. See `Handling Integers With Missing Values <https://www.mlflow.org/docs/latest/models.html#handling-integers-with-missing-values>`_ for more details.\"\n2024/05/01 18:13:19 WARNING mlflow.pyspark.ml: Model ALS_d721489a5f3e will not be autologged because it is not allowlisted or or because one or more of its nested models are not allowlisted. Call mlflow.spark.log_model() to explicitly log the model, or specify a custom allowlist via the spark.mlflow.pysparkml.autolog.logModelAllowlistFile Spark conf (see mlflow.pyspark.ml.autolog docs for more info).\n"
     ]
    }
   ],
   "source": [
    "from pyspark.ml.recommendation import ALS\n",
    "als = ALS(maxIter=5, regParam=0.01, userCol=\"member_Id\", itemCol=\"game_id\", ratingCol=\"hourplay\",\n",
    "          seed=100)\n",
    "model = als.fit(training)"
   ]
  },
  {
   "cell_type": "code",
   "execution_count": 0,
   "metadata": {
    "application/vnd.databricks.v1+cell": {
     "cellMetadata": {
      "byteLimit": 2048000,
      "rowLimit": 10000
     },
     "inputWidgets": {},
     "nuid": "a9671821-38b2-4b94-9792-8543dd0cb828",
     "showTitle": false,
     "title": ""
    }
   },
   "outputs": [
    {
     "output_type": "stream",
     "name": "stdout",
     "output_type": "stream",
     "text": [
      "+---------+--------+--------+-------+----------+\n|member_Id|behavior|hourplay|game_id|prediction|\n+---------+--------+--------+-------+----------+\n|     5250|purchase|     1.0|    442| 0.9749269|\n|     5250|purchase|     1.0|   1996|0.94710994|\n|     5250|purchase|     1.0|   3458| 1.0269991|\n|     5250|purchase|     1.0|   4303| 1.0167481|\n|    76767|purchase|     1.0|    487| 1.0166323|\n|    76767|purchase|     1.0|   1017| 1.0061419|\n|    76767|purchase|     1.0|   1635| 0.9415776|\n|    76767|purchase|     1.0|   1950| 1.0245332|\n|    76767|purchase|     1.0|   1971|0.92038333|\n|    76767|purchase|     1.0|   1996|0.92106855|\n|    76767|purchase|     1.0|   2307| 0.9552475|\n|    76767|purchase|     1.0|   2332| 1.0175451|\n|    76767|purchase|     1.0|   3689|  0.913897|\n|   103360|purchase|     1.0|    628|0.96695787|\n|   103360|purchase|     1.0|   1527| 1.0136162|\n|   103360|purchase|     1.0|   3689| 0.9634152|\n|   181212|purchase|     1.0|   1527| 1.0109842|\n|   181212|purchase|     1.0|   4007|0.99596304|\n|   298950|purchase|     1.0|     44| 0.8830215|\n|   298950|purchase|     1.0|    268|0.98184335|\n+---------+--------+--------+-------+----------+\nonly showing top 20 rows\n\n"
     ]
    }
   ],
   "source": [
    "predictions = model.transform(test).dropna()\n",
    "predictions.show()"
   ]
  },
  {
   "cell_type": "code",
   "execution_count": 0,
   "metadata": {
    "application/vnd.databricks.v1+cell": {
     "cellMetadata": {
      "byteLimit": 2048000,
      "rowLimit": 10000
     },
     "inputWidgets": {},
     "nuid": "a7450ce9-eede-401b-8c24-945cd060c0f1",
     "showTitle": false,
     "title": ""
    }
   },
   "outputs": [
    {
     "output_type": "stream",
     "name": "stdout",
     "output_type": "stream",
     "text": [
      "Root Mean Squared Error (RMSE) = 0.03667392774776286\n"
     ]
    }
   ],
   "source": [
    "from pyspark.ml.evaluation import RegressionEvaluator\n",
    "evaluator = RegressionEvaluator(metricName=\"rmse\", labelCol=\"hourplay\", predictionCol=\"prediction\")\n",
    "rmse = evaluator.evaluate(predictions)\n",
    "print(\"Root Mean Squared Error (RMSE) = \" + str(rmse))"
   ]
  },
  {
   "cell_type": "code",
   "execution_count": 0,
   "metadata": {
    "application/vnd.databricks.v1+cell": {
     "cellMetadata": {
      "byteLimit": 2048000,
      "rowLimit": 10000
     },
     "inputWidgets": {},
     "nuid": "47394611-3ab9-441e-872f-a738d817770d",
     "showTitle": false,
     "title": ""
    }
   },
   "outputs": [],
   "source": [
    "userRecs = model.recommendForAllUsers(5) "
   ]
  },
  {
   "cell_type": "code",
   "execution_count": 0,
   "metadata": {
    "application/vnd.databricks.v1+cell": {
     "cellMetadata": {
      "byteLimit": 2048000,
      "rowLimit": 10000
     },
     "inputWidgets": {},
     "nuid": "2a9b36b8-0d57-4ebf-8c5a-83cd0ab3d6ba",
     "showTitle": false,
     "title": ""
    }
   },
   "outputs": [
    {
     "output_type": "stream",
     "name": "stdout",
     "output_type": "stream",
     "text": [
      "Sample user recommendations:\n+---------+----------------------------------------------------------------------------------------------+\n|member_Id|recommendations                                                                               |\n+---------+----------------------------------------------------------------------------------------------+\n|76767    |[{4660, 1.2644736}, {612, 1.2018559}, {4103, 1.1955372}, {3577, 1.1886697}, {1051, 1.1602938}]|\n|144736   |[{4660, 1.284478}, {4103, 1.2090895}, {3577, 1.1995863}, {1051, 1.1890478}, {3789, 1.1747489}]|\n|229911   |[{4660, 1.2768016}, {1051, 1.1921147}, {4103, 1.1919621}, {612, 1.1886308}, {3577, 1.1833024}]|\n|835015   |[{4660, 1.2750739}, {4103, 1.2064136}, {3577, 1.1972455}, {1051, 1.1811393}, {612, 1.1712136}]|\n|948368   |[{4660, 1.2835784}, {612, 1.2261788}, {4103, 1.2066596}, {3577, 1.1974787}, {1051, 1.1863861}]|\n+---------+----------------------------------------------------------------------------------------------+\nonly showing top 5 rows\n\n"
     ]
    }
   ],
   "source": [
    "print(\"Sample user recommendations:\")\n",
    "userRecs.show(5, truncate=False)"
   ]
  },
  {
   "cell_type": "code",
   "execution_count": 0,
   "metadata": {
    "application/vnd.databricks.v1+cell": {
     "cellMetadata": {
      "byteLimit": 2048000,
      "rowLimit": 10000
     },
     "inputWidgets": {},
     "nuid": "90faf886-5d35-4931-b2a0-b5cec507d8ae",
     "showTitle": false,
     "title": ""
    }
   },
   "outputs": [
    {
     "output_type": "stream",
     "name": "stdout",
     "output_type": "stream",
     "text": [
      "+---------+--------------------+\n|member_Id|     recommendations|\n+---------+--------------------+\n|   298950|[{2905, 1.2504506...|\n+---------+--------------------+\n\n"
     ]
    }
   ],
   "source": [
    "member_Id=298950\n",
    "userRecs.filter(userRecs.member_Id == member_Id).show()"
   ]
  },
  {
   "cell_type": "code",
   "execution_count": 0,
   "metadata": {
    "application/vnd.databricks.v1+cell": {
     "cellMetadata": {
      "byteLimit": 2048000,
      "rowLimit": 10000
     },
     "inputWidgets": {},
     "nuid": "084ee8cc-82a1-4cc6-8d5c-75880f97122a",
     "showTitle": false,
     "title": ""
    }
   },
   "outputs": [
    {
     "output_type": "stream",
     "name": "stdout",
     "output_type": "stream",
     "text": [
      "+---------+--------+--------+-------+\n|member_Id|behavior|hourplay|game_id|\n+---------+--------+--------+-------+\n|151603712|    play|   273.0|   2609|\n|151603712|    play|    87.0|    410|\n|151603712|    play|    14.9|   3868|\n|151603712|    play|    12.1|   3820|\n|151603712|    play|     8.9|     69|\n|151603712|    play|     8.5|   3340|\n|151603712|    play|     8.1|   1562|\n|151603712|    play|     7.5|   4116|\n|151603712|    play|     3.3|   1992|\n|151603712|    play|     2.8|   3893|\n|151603712|    play|     2.5|   1754|\n|151603712|    play|     2.0|   3341|\n|151603712|    play|     1.4|   3540|\n|151603712|    play|     1.3|   2392|\n|151603712|    play|     1.3|    653|\n|151603712|    play|     0.8|   4023|\n|151603712|    play|     0.8|   3273|\n|151603712|    play|     0.6|   3517|\n|151603712|    play|     0.5|   2119|\n|151603712|    play|     0.5|   3541|\n+---------+--------+--------+-------+\nonly showing top 20 rows\n\n"
     ]
    }
   ],
   "source": [
    "#play\n",
    "play_steam = mysteam[mysteam['behavior'] == 'play']\n",
    "play_steam.show()"
   ]
  },
  {
   "cell_type": "code",
   "execution_count": 0,
   "metadata": {
    "application/vnd.databricks.v1+cell": {
     "cellMetadata": {
      "byteLimit": 2048000,
      "rowLimit": 10000
     },
     "inputWidgets": {},
     "nuid": "09e61c32-7fd8-47e1-a5ff-a340437a4be8",
     "showTitle": false,
     "title": ""
    }
   },
   "outputs": [
    {
     "output_type": "display_data",
     "data": {
      "image/png": "[encoded data removed]",
      "text/plain": [
       "<Figure size 1000x600 with 1 Axes>"
      ]
     },
     "metadata": {},
     "output_type": "display_data"
    }
   ],
   "source": [
    "#Top 5 highest totsl 'play' time\n",
    "from pyspark.sql.functions import sum\n",
    "import matplotlib.pyplot as plt\n",
    "import seaborn as sns\n",
    "\n",
    "most_played_games = play_steam.groupBy(\"game_id\").agg(sum(\"hourplay\").alias(\"total_play_time\")).orderBy(\"total_play_time\", ascending=False)\n",
    "\n",
    "most_played_games_pd = most_played_games.toPandas()\n",
    "\n",
    "plt.figure(figsize=(10, 6))\n",
    "sns.barplot(data=most_played_games_pd.head(5), y='total_play_time', x='game_id')\n",
    "plt.title('Top 5 Games with the Highest Total Play Time')\n",
    "plt.xlabel('Total Play Time')\n",
    "plt.ylabel('Game ID')\n",
    "plt.show()"
   ]
  },
  {
   "cell_type": "code",
   "execution_count": 0,
   "metadata": {
    "application/vnd.databricks.v1+cell": {
     "cellMetadata": {
      "byteLimit": 2048000,
      "rowLimit": 10000
     },
     "inputWidgets": {},
     "nuid": "cb2ff01a-4ac6-4adc-b3eb-ea8e3407d61e",
     "showTitle": false,
     "title": ""
    }
   },
   "outputs": [],
   "source": [
    "(training, test) = play_steam.randomSplit([0.8, 0.2], seed=100)\n",
    "training = training.unionAll(play_steam)"
   ]
  },
  {
   "cell_type": "code",
   "execution_count": 0,
   "metadata": {
    "application/vnd.databricks.v1+cell": {
     "cellMetadata": {
      "byteLimit": 2048000,
      "rowLimit": 10000
     },
     "inputWidgets": {},
     "nuid": "99b8fc5a-bb34-4fe9-9b94-044f3e909f1b",
     "showTitle": false,
     "title": ""
    }
   },
   "outputs": [
    {
     "output_type": "stream",
     "name": "stderr",
     "output_type": "stream",
     "text": [
      "2024/05/01 18:14:43 INFO mlflow.utils.autologging_utils: Created MLflow autologging run with ID '3826295fd054412a8cce7221838dad49', which will track hyperparameters, performance metrics, model artifacts, and lineage information for the current pyspark.ml workflow\n2024/05/01 18:15:07 WARNING mlflow.pyspark.ml: Model ALS_b04ac7dc86c0 will not be autologged because it is not allowlisted or or because one or more of its nested models are not allowlisted. Call mlflow.spark.log_model() to explicitly log the model, or specify a custom allowlist via the spark.mlflow.pysparkml.autolog.logModelAllowlistFile Spark conf (see mlflow.pyspark.ml.autolog docs for more info).\n"
     ]
    }
   ],
   "source": [
    "from pyspark.ml.recommendation import ALS\n",
    "als = ALS(maxIter=5, regParam=0.01, userCol=\"member_Id\", itemCol=\"game_id\", ratingCol=\"hourplay\",\n",
    "          seed=100)\n",
    "model = als.fit(training)"
   ]
  },
  {
   "cell_type": "code",
   "execution_count": 0,
   "metadata": {
    "application/vnd.databricks.v1+cell": {
     "cellMetadata": {
      "byteLimit": 2048000,
      "rowLimit": 10000
     },
     "inputWidgets": {},
     "nuid": "bc6b893e-c4a7-4066-9c6e-1b4945c99aef",
     "showTitle": false,
     "title": ""
    }
   },
   "outputs": [
    {
     "output_type": "stream",
     "name": "stdout",
     "output_type": "stream",
     "text": [
      "+---------+--------+--------+-------+----------+\n|member_Id|behavior|hourplay|game_id|prediction|\n+---------+--------+--------+-------+----------+\n|     5250|    play|    13.6|   1017|  13.73172|\n|    76767|    play|     3.4|   3443| -8.257456|\n|    76767|    play|    12.5|   2307| 12.641129|\n|    76767|    play|    25.0|     44| 27.525787|\n|    76767|    play|   365.0|   3689| 359.43713|\n|   298950|    play|     0.1|    782|-5.7227316|\n|   298950|    play|     0.2|    653| 202.40622|\n|   298950|    play|     0.2|   1018|  4.876689|\n|   298950|    play|     0.2|   1329|  5.652985|\n|   298950|    play|     0.2|   1874|-3.5436332|\n|   298950|    play|     0.2|   3078| 36.275894|\n|   298950|    play|     0.2|   3869| 2.8383713|\n|   298950|    play|     0.4|   1285|-4.6037965|\n|   298950|    play|     0.4|   4054|-14.475901|\n|   298950|    play|     0.5|      0|-208.73851|\n|   298950|    play|     0.6|    245|    11.962|\n|   298950|    play|     0.7|     47| 0.2530148|\n|   298950|    play|     0.8|   4353|0.13021138|\n|   298950|    play|     0.9|   4092|-32.426514|\n|   298950|    play|     1.4|   1129| 0.9042877|\n+---------+--------+--------+-------+----------+\nonly showing top 20 rows\n\n"
     ]
    }
   ],
   "source": [
    "predictions = model.transform(test).dropna()\n",
    "predictions.show()"
   ]
  },
  {
   "cell_type": "code",
   "execution_count": 0,
   "metadata": {
    "application/vnd.databricks.v1+cell": {
     "cellMetadata": {
      "byteLimit": 2048000,
      "rowLimit": 10000
     },
     "inputWidgets": {},
     "nuid": "99f0403c-b2ea-4512-99d1-b21b3bc865bb",
     "showTitle": false,
     "title": ""
    }
   },
   "outputs": [
    {
     "output_type": "stream",
     "name": "stdout",
     "output_type": "stream",
     "text": [
      "Root Mean Squared Error (RMSE) = 39.65066108600551\n"
     ]
    }
   ],
   "source": [
    "from pyspark.ml.evaluation import RegressionEvaluator\n",
    "evaluator = RegressionEvaluator(metricName=\"rmse\", labelCol=\"hourplay\", predictionCol=\"prediction\")\n",
    "rmse = evaluator.evaluate(predictions)\n",
    "print(\"Root Mean Squared Error (RMSE) = \" + str(rmse))"
   ]
  },
  {
   "cell_type": "code",
   "execution_count": 0,
   "metadata": {
    "application/vnd.databricks.v1+cell": {
     "cellMetadata": {
      "byteLimit": 2048000,
      "rowLimit": 10000
     },
     "inputWidgets": {},
     "nuid": "53d58b8e-5e62-47df-8468-a7fd37689ee0",
     "showTitle": false,
     "title": ""
    }
   },
   "outputs": [],
   "source": [
    "userRecs = model.recommendForAllUsers(5) "
   ]
  },
  {
   "cell_type": "code",
   "execution_count": 0,
   "metadata": {
    "application/vnd.databricks.v1+cell": {
     "cellMetadata": {
      "byteLimit": 2048000,
      "rowLimit": 10000
     },
     "inputWidgets": {},
     "nuid": "23f61003-1315-4df3-8dc6-4644cdcbd431",
     "showTitle": false,
     "title": ""
    }
   },
   "outputs": [
    {
     "output_type": "stream",
     "name": "stdout",
     "output_type": "stream",
     "text": [
      "Sample user recommendations:\n+---------+--------------------------------------------------------------------------------------------------+\n|member_Id|recommendations                                                                                   |\n+---------+--------------------------------------------------------------------------------------------------+\n|76767    |[{2202, 9724.605}, {3176, 7716.5107}, {225, 7136.256}, {4921, 6790.492}, {2294, 4850.3525}]       |\n|144736   |[{2202, 0.21399055}, {2294, 0.10761718}, {3689, 0.09999999}, {355, 0.0825119}, {3769, 0.07189901}]|\n|229911   |[{1223, 4151.5674}, {3772, 3056.6252}, {351, 2246.1477}, {2689, 1979.1213}, {4124, 1906.3253}]    |\n|948368   |[{2803, 383.2611}, {4921, 270.2479}, {1223, 262.6188}, {3176, 250.97}, {1506, 198.37077}]         |\n|975449   |[{3697, 1282.0121}, {1553, 652.3576}, {4124, 580.4714}, {3176, 545.2612}, {3436, 416.3791}]       |\n+---------+--------------------------------------------------------------------------------------------------+\nonly showing top 5 rows\n\n"
     ]
    }
   ],
   "source": [
    "print(\"Sample user recommendations:\")\n",
    "userRecs.show(5, truncate=False)"
   ]
  },
  {
   "cell_type": "code",
   "execution_count": 0,
   "metadata": {
    "application/vnd.databricks.v1+cell": {
     "cellMetadata": {},
     "inputWidgets": {},
     "nuid": "306bddf7-ae31-4582-a6e0-486bc47579d4",
     "showTitle": false,
     "title": ""
    }
   },
   "outputs": [],
   "source": [
    "#Extra Point-Hyperparameter tuning "
   ]
  },
  {
   "cell_type": "code",
   "execution_count": 0,
   "metadata": {
    "application/vnd.databricks.v1+cell": {
     "cellMetadata": {
      "byteLimit": 2048000,
      "rowLimit": 10000
     },
     "inputWidgets": {},
     "nuid": "3f9c2cad-6383-4773-89b9-939a72db7c21",
     "showTitle": false,
     "title": ""
    }
   },
   "outputs": [],
   "source": [
    "als = ALS(userCol=\"member_Id\", itemCol=\"game_id\", ratingCol=\"hourplay\", seed=100)"
   ]
  },
  {
   "cell_type": "code",
   "execution_count": 0,
   "metadata": {
    "application/vnd.databricks.v1+cell": {
     "cellMetadata": {
      "byteLimit": 2048000,
      "rowLimit": 10000
     },
     "inputWidgets": {},
     "nuid": "7103945f-d7a5-4432-9129-db9103c1882f",
     "showTitle": false,
     "title": ""
    }
   },
   "outputs": [],
   "source": [
    "from pyspark.ml.tuning import ParamGridBuilder\n",
    "#Create a parameter grid\n",
    "\n",
    "parameters = ParamGridBuilder()\\\n",
    "    .addGrid(als.regParam ,[0.001, 0.005, 0.01, 0.05, 0.1])\\\n",
    "    .addGrid(als.rank,[5,10,15])\\\n",
    "    .build()"
   ]
  },
  {
   "cell_type": "code",
   "execution_count": 0,
   "metadata": {
    "application/vnd.databricks.v1+cell": {
     "cellMetadata": {
      "byteLimit": 2048000,
      "rowLimit": 10000
     },
     "inputWidgets": {},
     "nuid": "e38583af-002c-4890-9ee8-399db6907ca7",
     "showTitle": false,
     "title": ""
    }
   },
   "outputs": [
    {
     "output_type": "stream",
     "name": "stderr",
     "output_type": "stream",
     "text": [
      "2024/05/01 18:15:45 INFO mlflow.utils.autologging_utils: Created MLflow autologging run with ID 'abfaf49f04e84bbab230dd2b9b3182fd', which will track hyperparameters, performance metrics, model artifacts, and lineage information for the current pyspark.ml workflow\n2024/05/01 18:24:42 WARNING mlflow.pyspark.ml: Model TrainValidationSplitModel_b7d77aeaa56d will not be autologged because it is not allowlisted or or because one or more of its nested models are not allowlisted. Call mlflow.spark.log_model() to explicitly log the model, or specify a custom allowlist via the spark.mlflow.pysparkml.autolog.logModelAllowlistFile Spark conf (see mlflow.pyspark.ml.autolog docs for more info).\n"
     ]
    }
   ],
   "source": [
    "from pyspark.ml.tuning import TrainValidationSplit\n",
    "tvs = TrainValidationSplit()\\\n",
    "    .setSeed(100)\\\n",
    "    .setTrainRatio(0.75)\\\n",
    "    .setEstimatorParamMaps(parameters)\\\n",
    "    .setEstimator(als)\\\n",
    "    .setEvaluator(evaluator)\n",
    "gridsearchModel = tvs.fit(training)"
   ]
  },
  {
   "cell_type": "code",
   "execution_count": 0,
   "metadata": {
    "application/vnd.databricks.v1+cell": {
     "cellMetadata": {
      "byteLimit": 2048000,
      "rowLimit": 10000
     },
     "inputWidgets": {},
     "nuid": "a4e6e9b6-8914-4948-9dbb-d3d2d616120c",
     "showTitle": false,
     "title": ""
    }
   },
   "outputs": [
    {
     "output_type": "stream",
     "name": "stdout",
     "output_type": "stream",
     "text": [
      "Parameters for the best model:\nrank Parameter: 5\nRegParam Parameter:0.001\n"
     ]
    }
   ],
   "source": [
    "bestModel = gridsearchModel.bestModel\n",
    "print(\"Parameters for the best model:\")\n",
    "print(\"rank Parameter: %g\" %bestModel.rank)\n",
    "print(\"RegParam Parameter:%g\" %bestModel._java_obj.parent().getRegParam())"
   ]
  }
 ],
 "metadata": {
  "application/vnd.databricks.v1+notebook": {
   "dashboards": [],
   "language": "python",
   "notebookMetadata": {
    "pythonIndentUnit": 4
   },
   "notebookName": "Parisa_Moradi_ml",
   "widgets": {}
  }
 },
 "nbformat": 4,
 "nbformat_minor": 0
}
